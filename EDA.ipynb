{
 "cells": [
  {
   "cell_type": "code",
   "execution_count": null,
   "metadata": {},
   "outputs": [],
   "source": [
    "import numpy as np\n",
    "import pandas as pd "
   ]
  }
 ],
 "metadata": {
  "interpreter": {
   "hash": "63319223ab618aa31d9f16da721f9935d9e5b4b6345e32edb9f556f7ffb27969"
  },
  "kernelspec": {
   "display_name": "Python 3.8.5 ('dyson')",
   "language": "python",
   "name": "python3"
  },
  "language_info": {
   "name": "python",
   "version": "3.8.5"
  },
  "orig_nbformat": 4
 },
 "nbformat": 4,
 "nbformat_minor": 2
}
